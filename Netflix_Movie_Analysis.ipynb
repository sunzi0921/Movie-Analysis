{
  "nbformat": 4,
  "nbformat_minor": 0,
  "metadata": {
    "colab": {
      "provenance": []
    },
    "kernelspec": {
      "name": "python3",
      "display_name": "Python 3"
    },
    "language_info": {
      "name": "python"
    }
  },
  "cells": [
    {
      "cell_type": "code",
      "execution_count": null,
      "metadata": {
        "id": "lZDsZ7XqG92w"
      },
      "outputs": [],
      "source": [
        "# Importing pandas and matplotlib\n",
        "import pandas as pd\n",
        "import matplotlib.pyplot as plt\n",
        "# Read in the Netflix CSV as a DataFrame\n",
        "netflix_df = pd.read_csv(\"netflix_data.csv\")\n",
        "\n",
        "#netflix_movies = netflix_df[0:5]\n",
        "\n",
        "# Subset the DataFrame for type \"Movie\"\n",
        "netflix_subset = netflix_df[netflix_df[\"type\"]==\"Movie\"]\n",
        "\n",
        "# Select only the columns of interest\n",
        "netflix_movies = netflix_subset[['title', 'country', 'genre', 'release_year', 'duration']]\n",
        "\n",
        "# Filter for durations shorter than 60 minutes\n",
        "short_movies = netflix_movies[netflix_movies.duration < 60]\n",
        "\n",
        "# Define an empty list\n",
        "colors = []\n",
        "\n",
        "# Iterate over rows of netflix_movies\n",
        "for label, row in netflix_movies.iterrows() :\n",
        "    if row['genre']==\"Children\":\n",
        "        colors.append(\"red\")\n",
        "    elif row['genre']==\"Documentaries\":\n",
        "         colors.append(\"blue\")\n",
        "    elif row [\"genre\"]== \"Stand-Up\":\n",
        "         colors.append(\"green\")\n",
        "    else:\n",
        "         colors.append(\"black\")\n",
        "\n",
        "# Inspect the first 10 values in your list\n",
        "colors[:10]\n",
        "\n",
        "# Set the figure style and initalize a new figure\n",
        "fig = plt.figure(figsize=(12,8))\n",
        "\n",
        "# Create a scatter plot of duration versus release_year\n",
        "plt.scatter(netflix_movies.release_year, netflix_movies.duration, c=colors)\n",
        "\n",
        "# Create a title and axis labels\n",
        "plt.title(\"Movie Duration by Year of Release\")\n",
        "plt.xlabel(\"Release year\")\n",
        "plt.ylabel(\"Duration (min)\")\n",
        "\n",
        "# Show the plot\n",
        "\n",
        "\n",
        "# Are we certain that movies are getting shorter?\n",
        "answer = \"maybe\""
      ]
    }
  ]
}
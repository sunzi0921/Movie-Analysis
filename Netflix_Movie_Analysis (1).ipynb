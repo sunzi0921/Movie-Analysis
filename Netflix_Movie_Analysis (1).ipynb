{
  "nbformat": 4,
  "nbformat_minor": 0,
  "metadata": {
    "colab": {
      "provenance": []
    },
    "kernelspec": {
      "name": "python3",
      "display_name": "Python 3"
    },
    "language_info": {
      "name": "python"
    }
  },
  "cells": [
    {
      "cell_type": "code",
      "execution_count": null,
      "metadata": {
        "id": "lZDsZ7XqG92w"
      },
      "outputs": [],
      "source": [
        "# Import necessary libraries\n",
        "import pandas as pd\n",
        "import matplotlib.pyplot as plt\n",
        "\n",
        "# Load the Netflix dataset into a DataFrame\n",
        "data = pd.read_csv(\"netflix_data.csv\")\n",
        "\n",
        "# Filter the DataFrame to include only movies\n",
        "movies = data[data['type'] == 'Movie']\n",
        "\n",
        "# Select relevant columns for analysis\n",
        "selected_columns = movies[['title', 'country', 'genre', 'release_year', 'duration']]\n",
        "\n",
        "# Filter for movies with duration less than 60 minutes\n",
        "short_movies = selected_columns[selected_columns['duration'] < 60]\n",
        "\n",
        "# Initialize a list to store colors\n",
        "color_list = []\n",
        "\n",
        "# Assign colors based on genre\n",
        "for index, row in selected_columns.iterrows():\n",
        "    if row['genre'] == \"Children\":\n",
        "        color_list.append(\"red\")\n",
        "    elif row['genre'] == \"Documentaries\":\n",
        "        color_list.append(\"blue\")\n",
        "    elif row['genre'] == \"Stand-Up\":\n",
        "        color_list.append(\"green\")\n",
        "    else:\n",
        "        color_list.append(\"black\")\n",
        "\n",
        "# Display the first 10 colors\n",
        "print(color_list[:10])\n",
        "\n",
        "# Create a scatter plot\n",
        "plt.figure(figsize=(12, 8))\n",
        "plt.scatter(selected_columns['release_year'], selected_columns['duration'], c=color_list)\n",
        "\n",
        "# Add title and labels to the plot\n",
        "plt.title(\"Duration of Movies Over the Years\")\n",
        "plt.xlabel(\"Release Year\")\n",
        "plt.ylabel(\"Duration (minutes)\")\n",
        "\n",
        "# Show the plot\n",
        "plt.show()\n",
        "\n",
        "# Conclusion about movie durations\n",
        "answer = \"maybe\"\n",
        "\n",
        "\n",
        "\n",
        "\n"
      ]
    }
  ]
}